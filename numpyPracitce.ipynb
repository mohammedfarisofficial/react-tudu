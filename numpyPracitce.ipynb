{
  "nbformat": 4,
  "nbformat_minor": 0,
  "metadata": {
    "colab": {
      "provenance": [],
      "authorship_tag": "ABX9TyOT4I0oI2dZI8fC5SJVM6fv",
      "include_colab_link": true
    },
    "kernelspec": {
      "name": "python3",
      "display_name": "Python 3"
    },
    "language_info": {
      "name": "python"
    }
  },
  "cells": [
    {
      "cell_type": "markdown",
      "metadata": {
        "id": "view-in-github",
        "colab_type": "text"
      },
      "source": [
        "<a href=\"https://colab.research.google.com/github/mohammedfarisofficial/react-tudu/blob/master/numpyPracitce.ipynb\" target=\"_parent\"><img src=\"https://colab.research.google.com/assets/colab-badge.svg\" alt=\"Open In Colab\"/></a>"
      ]
    },
    {
      "cell_type": "code",
      "execution_count": null,
      "metadata": {
        "colab": {
          "base_uri": "https://localhost:8080/"
        },
        "id": "2_e9ueoJtEfX",
        "outputId": "3737e1b9-7e19-48ff-92e9-f975157b0152"
      },
      "outputs": [
        {
          "output_type": "stream",
          "name": "stdout",
          "text": [
            "[2 4 5 1 3 6]\n"
          ]
        }
      ],
      "source": [
        "import numpy as np \n",
        "import random\n",
        "\n",
        "#array\n",
        "arr = np.array(((2,4,5),(1,3,6)))\n",
        "#tuple\n",
        "arr1 = np.zeros((10,20))\n",
        "#complex number\n",
        "arr2 = np.full((3,3),6,dtype='complex')\n",
        "#random\n",
        "arr3 = np.random.random((2,2))\n",
        "#range\n",
        "arr4 = np.arange(0,30,5)\n",
        "#linespace\n",
        "arr5 = np.linspace(0,5,10) # starting,end,howmany\n",
        "\n",
        "#operations\n",
        "# print(arr5)\n",
        "#flatten array\n",
        "print(arr.flatten())\n",
        "\n",
        "# print(arr1)\n",
        "# arr.shape\n",
        "# print(arr.ndim)\n"
      ]
    }
  ]
}